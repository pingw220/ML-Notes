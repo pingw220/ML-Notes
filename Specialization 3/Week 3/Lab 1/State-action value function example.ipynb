{
 "cells": [
  {
   "cell_type": "markdown",
   "id": "f1b96784",
   "metadata": {},
   "source": [
    "# State Action Value Function Example\n",
    "\n",
    "In this Jupyter notebook, you can modify the mars rover example to see how the values of Q(s,a) will change depending on the rewards and discount factor changing."
   ]
  },
  {
   "cell_type": "code",
   "execution_count": null,
   "id": "aa19475a",
   "metadata": {},
   "outputs": [],
   "source": [
    "import numpy as np\n",
    "from utils import *"
   ]
  },
  {
   "cell_type": "code",
   "execution_count": null,
   "id": "9ecd76f2",
   "metadata": {},
   "outputs": [],
   "source": [
    "# Do not modify\n",
    "num_states = 6\n",
    "num_actions = 2"
   ]
  },
  {
   "cell_type": "code",
   "execution_count": null,
   "id": "5fd96222",
   "metadata": {},
   "outputs": [],
   "source": [
    "terminal_left_reward = 100\n",
    "terminal_right_reward = 40\n",
    "each_step_reward = 0\n",
    "\n",
    "# Discount factor\n",
    "gamma = 0.5\n",
    "\n",
    "# Probability of going in the wrong direction\n",
    "misstep_prob = 0"
   ]
  },
  {
   "cell_type": "code",
   "execution_count": null,
   "id": "010cb12d",
   "metadata": {},
   "outputs": [],
   "source": [
    "generate_visualization(terminal_left_reward, terminal_right_reward, each_step_reward, gamma, misstep_prob)"
   ]
  }
 ],
 "metadata": {
  "kernelspec": {
   "display_name": "Python 3 (ipykernel)",
   "language": "python",
   "name": "python3"
  },
  "language_info": {
   "codemirror_mode": {
    "name": "ipython",
    "version": 3
   },
   "file_extension": ".py",
   "mimetype": "text/x-python",
   "name": "python",
   "nbconvert_exporter": "python",
   "pygments_lexer": "ipython3",
   "version": "3.11.3"
  }
 },
 "nbformat": 4,
 "nbformat_minor": 5
}
